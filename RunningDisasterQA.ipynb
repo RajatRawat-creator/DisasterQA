{
  "cells": [
    {
      "cell_type": "code",
      "execution_count": null,
      "metadata": {
        "id": "BTByj8LbjNui"
      },
      "outputs": [],
      "source": [
        "!pip install openai"
      ]
    },
    {
      "cell_type": "code",
      "execution_count": null,
      "metadata": {
        "id": "z7Y_Rb5aj6Mo"
      },
      "outputs": [],
      "source": [
        "import openai"
      ]
    },
    {
      "cell_type": "code",
      "execution_count": null,
      "metadata": {
        "id": "Y3IvrFdFkCIy"
      },
      "outputs": [],
      "source": [
        "import csv\n",
        "from google.colab import drive\n",
        "drive.mount('/content/drive')"
      ]
    },
    {
      "cell_type": "code",
      "execution_count": null,
      "metadata": {
        "id": "gzwVjMtMmFG_"
      },
      "outputs": [],
      "source": [
        "import re\n",
        "\n",
        "def convert_google_sheet_url(url):\n",
        "    # Regular expression to match and capture the necessary part of the URL\n",
        "    pattern = r'https://docs\\.google\\.com/spreadsheets/d/([a-zA-Z0-9-_]+)(/edit#gid=(\\d+)|/edit.*)?'\n",
        "\n",
        "    # Replace function to construct the new URL for CSV export\n",
        "    # If gid is present in the URL, it includes it in the export URL, otherwise, it's omitted\n",
        "    replacement = lambda m: f'https://docs.google.com/spreadsheets/d/{m.group(1)}/export?' + (f'gid={m.group(3)}&' if m.group(3) else '') + 'format=csv'\n",
        "\n",
        "    # Replace using regex\n",
        "    new_url = re.sub(pattern, replacement, url)\n",
        "\n",
        "    return new_url"
      ]
    },
    {
      "cell_type": "code",
      "execution_count": null,
      "metadata": {
        "id": "xd8fIKiqpYf2"
      },
      "outputs": [],
      "source": [
        "import pandas as pd\n",
        "\n",
        "# Replace with your modified URL\n",
        "url = 'https://docs.google.com/spreadsheets/d/1jLV0eVEB1QOK9fEqppBRB_8IoYlIj4PtGCf4UNinsNM/edit?gid=0#gid=0'\n",
        "\n",
        "new_url = convert_google_sheet_url(url)\n",
        "\n",
        "print(new_url)\n",
        "# https://docs.google.com/spreadsheets/d/1mSEJtzy5L0nuIMRlY9rYdC5s899Ptu2gdMJcIalr5pg/export?gid=1606352415&format=csv"
      ]
    },
    {
      "cell_type": "code",
      "execution_count": null,
      "metadata": {
        "id": "jVj6q3LYpwpR"
      },
      "outputs": [],
      "source": [
        "df = pd.read_csv(new_url)"
      ]
    },
    {
      "cell_type": "code",
      "execution_count": null,
      "metadata": {
        "id": "Ml_-mQfupyOH"
      },
      "outputs": [],
      "source": [
        "df"
      ]
    },
    {
      "cell_type": "code",
      "execution_count": null,
      "metadata": {
        "id": "8I-5m-OEp7gF"
      },
      "outputs": [],
      "source": [
        "from openai import OpenAI"
      ]
    },
    {
      "cell_type": "code",
      "execution_count": null,
      "metadata": {
        "id": "cIRo7PEcp8Ok"
      },
      "outputs": [],
      "source": [
        "client = OpenAI(\n",
        "    api_key = 'Your API key here.'\n",
        ")\n",
        "# Structure can be used to test different non OpenAI models as well"
      ]
    },
    {
      "cell_type": "code",
      "execution_count": null,
      "metadata": {
        "colab": {
          "background_save": true
        },
        "id": "DNivEFarF5U_"
      },
      "outputs": [],
      "source": [
        "def generate_completions(question, answer_choices, temperature=0.7, n=5):\n",
        "    responses = []\n",
        "    prompt = f\"{question}\\n\\nAnswer choices:\\n{answer_choices}\"\n",
        "    print(prompt)\n",
        "    emotional_prompt = \"\"\"\n",
        "    A disaster is happening, so your answer to this question is of the utmost importance. People may die given an incorrect answer. Only give an answer once you are as confident as you can be as the fate of some humans’ livelihoods rests on your hands.\n",
        "    \"\"\"\n",
        "    # emotional prompting is being tested, other prompting methods can be used as well\n",
        "    print(emotional_prompt)\n",
        "    for _ in range(n):\n",
        "        messages = [\n",
        "            {\"role\": \"user\", \"content\": emotional_prompt},\n",
        "            {\"role\": \"user\", \"content\": prompt},\n",
        "            {\"role\": \"user\", \"content\": \"Please answer the question above and end your answer with 'The answer is {letter}', where letter is A, B, C, D, or E.\"}\n",
        "        ]\n",
        "        response = client.chat.completions.create(\n",
        "          model=\"gpt-4o\",\n",
        "          messages=messages,\n",
        "          temperature=temperature,\n",
        "          logprobs=True,\n",
        "          top_logprobs=20,\n",
        "        )\n",
        "        # Prompting and appending responses\n",
        "        responses.append(response)\n",
        "    return responses\n",
        "\n",
        "def serialize_logprobs(logprobs):\n",
        "    return \"; \".join([f\"Token: {logprob.token}, Logprob: {logprob.logprob}\" for logprob in logprobs])\n",
        "    # returning log probs\n",
        "\n",
        "# Input and output files\n",
        "input_file = '/content/sample_data/Dataset - Sheet1 (1).csv'\n",
        "output_file = '/content/drive/MyDrive/GPT4oEmotionalPromptDisasterResponses.csv'\n",
        "\n",
        "# Open the input CSV file for reading and output CSV file for writing\n",
        "with open(input_file, mode='r', newline='') as infile, open(output_file, mode='w', newline='') as outfile:\n",
        "    reader = csv.reader(infile)\n",
        "    writer = csv.writer(outfile)\n",
        "\n",
        "    # Write the header row in the output CSV\n",
        "    writer.writerow([\n",
        "        'Row Number', 'Question', 'Answer Choices',\n",
        "        'Completion 1', 'Completion 2', 'Completion 3',\n",
        "        'Completion 4', 'Completion 5', 'Logprobs 1',\n",
        "        'Logprobs 2', 'Logprobs 3', 'Logprobs 4', 'Logprobs 5'\n",
        "    ])\n",
        "\n",
        "    for idx, row in enumerate(reader, start=0):\n",
        "\n",
        "        question = row[0]\n",
        "        answer_choices = row[1]\n",
        "\n",
        "        # Generates completions for question\n",
        "        question_responses = generate_completions(question, answer_choices, n=5)\n",
        "\n",
        "        # Prepare data for writing to CSV\n",
        "        completions = []\n",
        "        logprobs = []\n",
        "        for response in question_responses:\n",
        "            question_completion = response.choices[0].message.content.strip()\n",
        "            question_logprobs = serialize_logprobs(response.choices[0].logprobs.content[-2].top_logprobs)\n",
        "            completions.append(question_completion)\n",
        "            logprobs.append(question_logprobs)\n",
        "            print(f\"Completion: {question_completion}\")\n",
        "            # Gets the completion from question_responses\n",
        "        # Write it incrementally to the CSV file\n",
        "        writer.writerow([\n",
        "            idx, question, answer_choices,\n",
        "            completions[0], completions[1], completions[2],\n",
        "            completions[3], completions[4], logprobs[0],\n",
        "            logprobs[1], logprobs[2], logprobs[3], logprobs[4]\n",
        "        ])"
      ]
    }
  ],
  "metadata": {
    "colab": {
      "provenance": []
    },
    "kernelspec": {
      "display_name": "Python 3",
      "name": "python3"
    },
    "language_info": {
      "name": "python"
    }
  },
  "nbformat": 4,
  "nbformat_minor": 0
}